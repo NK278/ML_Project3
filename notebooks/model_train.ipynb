{
 "cells": [
  {
   "cell_type": "code",
   "execution_count": 1,
   "metadata": {},
   "outputs": [],
   "source": [
    "\n",
    "import pandas as pd\n",
    "import numpy as np\n",
    "import seaborn as sns\n",
    "import matplotlib.pyplot as plt\n",
    "import scipy.stats as stats\n",
    "import os\n",
    "import warnings\n",
    "from sklearn.model_selection import train_test_split,GridSearchCV,cross_val_score\n",
    "from sklearn.preprocessing import StandardScaler,OneHotEncoder,LabelEncoder,FunctionTransformer\n",
    "from sklearn.datasets import load_breast_cancer\n",
    "from sklearn.linear_model import LogisticRegression\n",
    "from sklearn.metrics import accuracy_score, precision_score, recall_score, confusion_matrix, classification_report\n",
    "from sklearn.pipeline import Pipeline\n",
    "from sklearn.impute import SimpleImputer\n",
    "from sklearn.compose import ColumnTransformer\n",
    "from sklearn.ensemble import RandomForestClassifier\n",
    "warnings.filterwarnings('ignore')\n",
    "%matplotlib inline"
   ]
  },
  {
   "cell_type": "code",
   "execution_count": 2,
   "metadata": {},
   "outputs": [],
   "source": [
    "data=load_breast_cancer()\n",
    "df=pd.DataFrame(data=data.data,columns=data.feature_names)\n",
    "df['target'] = data.target"
   ]
  },
  {
   "cell_type": "code",
   "execution_count": 3,
   "metadata": {},
   "outputs": [],
   "source": [
    "X = df.drop(columns='target')\n",
    "y = df['target']\n",
    "X_train, X_test, y_train, y_test = train_test_split(X, y, test_size=0.3, random_state=42)"
   ]
  },
  {
   "cell_type": "code",
   "execution_count": 4,
   "metadata": {},
   "outputs": [
    {
     "name": "stdout",
     "output_type": "stream",
     "text": [
      "<class 'pandas.core.frame.DataFrame'>\n",
      "Index: 398 entries, 149 to 102\n",
      "Data columns (total 30 columns):\n",
      " #   Column                   Non-Null Count  Dtype  \n",
      "---  ------                   --------------  -----  \n",
      " 0   mean radius              398 non-null    float64\n",
      " 1   mean texture             398 non-null    float64\n",
      " 2   mean perimeter           398 non-null    float64\n",
      " 3   mean area                398 non-null    float64\n",
      " 4   mean smoothness          398 non-null    float64\n",
      " 5   mean compactness         398 non-null    float64\n",
      " 6   mean concavity           398 non-null    float64\n",
      " 7   mean concave points      398 non-null    float64\n",
      " 8   mean symmetry            398 non-null    float64\n",
      " 9   mean fractal dimension   398 non-null    float64\n",
      " 10  radius error             398 non-null    float64\n",
      " 11  texture error            398 non-null    float64\n",
      " 12  perimeter error          398 non-null    float64\n",
      " 13  area error               398 non-null    float64\n",
      " 14  smoothness error         398 non-null    float64\n",
      " 15  compactness error        398 non-null    float64\n",
      " 16  concavity error          398 non-null    float64\n",
      " 17  concave points error     398 non-null    float64\n",
      " 18  symmetry error           398 non-null    float64\n",
      " 19  fractal dimension error  398 non-null    float64\n",
      " 20  worst radius             398 non-null    float64\n",
      " 21  worst texture            398 non-null    float64\n",
      " 22  worst perimeter          398 non-null    float64\n",
      " 23  worst area               398 non-null    float64\n",
      " 24  worst smoothness         398 non-null    float64\n",
      " 25  worst compactness        398 non-null    float64\n",
      " 26  worst concavity          398 non-null    float64\n",
      " 27  worst concave points     398 non-null    float64\n",
      " 28  worst symmetry           398 non-null    float64\n",
      " 29  worst fractal dimension  398 non-null    float64\n",
      "dtypes: float64(30)\n",
      "memory usage: 96.4 KB\n"
     ]
    }
   ],
   "source": [
    "X_train.info()"
   ]
  },
  {
   "cell_type": "code",
   "execution_count": 5,
   "metadata": {},
   "outputs": [],
   "source": [
    "mean_imputation_col=['worst smoothness','worst texture','mean texture']\n",
    "median_imputation_col=[col for col in X_train.columns if col not in mean_imputation_col]"
   ]
  },
  {
   "cell_type": "code",
   "execution_count": 6,
   "metadata": {},
   "outputs": [],
   "source": [
    "mean_imputer = SimpleImputer(strategy='mean')\n",
    "median_imputer = SimpleImputer(strategy='median')"
   ]
  },
  {
   "cell_type": "code",
   "execution_count": 7,
   "metadata": {},
   "outputs": [],
   "source": [
    "preprocessor = ColumnTransformer(\n",
    "    transformers=[\n",
    "        ('mean_impute', mean_imputer, mean_imputation_col),\n",
    "        ('median_impute', median_imputer, median_imputation_col)\n",
    "    ]\n",
    ")"
   ]
  },
  {
   "cell_type": "code",
   "execution_count": 8,
   "metadata": {},
   "outputs": [],
   "source": [
    "pipeline = Pipeline(steps=[\n",
    "    ('preprocessor', preprocessor),\n",
    "    (\"scaler\",StandardScaler())\n",
    "])"
   ]
  },
  {
   "cell_type": "code",
   "execution_count": 9,
   "metadata": {},
   "outputs": [],
   "source": [
    "X_train_processed=pipeline.fit_transform(X_train)\n",
    "X_test_processed=pipeline.transform(X_test)"
   ]
  },
  {
   "cell_type": "code",
   "execution_count": 12,
   "metadata": {},
   "outputs": [
    {
     "name": "stdout",
     "output_type": "stream",
     "text": [
      "Evaluation for logistic_regression:\n",
      "Accuracy: 0.98\n",
      "Precision: 0.99\n",
      "Recall: 0.98\n",
      "\n",
      "Confusion Matrix:\n",
      "[[ 62   1]\n",
      " [  2 106]]\n",
      "\n",
      "Classification Report:\n",
      "              precision    recall  f1-score   support\n",
      "\n",
      "           0       0.97      0.98      0.98        63\n",
      "           1       0.99      0.98      0.99       108\n",
      "\n",
      "    accuracy                           0.98       171\n",
      "   macro avg       0.98      0.98      0.98       171\n",
      "weighted avg       0.98      0.98      0.98       171\n",
      "\n",
      "Evaluation for random_forest:\n",
      "Accuracy: 0.96\n",
      "Precision: 0.96\n",
      "Recall: 0.98\n",
      "\n",
      "Confusion Matrix:\n",
      "[[ 59   4]\n",
      " [  2 106]]\n",
      "\n",
      "Classification Report:\n",
      "              precision    recall  f1-score   support\n",
      "\n",
      "           0       0.97      0.94      0.95        63\n",
      "           1       0.96      0.98      0.97       108\n",
      "\n",
      "    accuracy                           0.96       171\n",
      "   macro avg       0.97      0.96      0.96       171\n",
      "weighted avg       0.96      0.96      0.96       171\n",
      "\n"
     ]
    }
   ],
   "source": [
    "models = {\n",
    "    \"logistic_regression\": LogisticRegression(),\n",
    "    \"random_forest\": RandomForestClassifier()\n",
    "}\n",
    "\n",
    "# Initialize lists and dictionary for results\n",
    "trained_models = []\n",
    "report = {}\n",
    "cross_val_score_list = []\n",
    "\n",
    "for model_name, model in models.items():\n",
    "    # Fit the model\n",
    "    model.fit(X_train_processed, y_train)\n",
    "    \n",
    "    # Make predictions\n",
    "    y_pred = model.predict(X_test_processed)\n",
    "    \n",
    "    # Evaluate performance\n",
    "    accuracy = accuracy_score(y_test, y_pred)\n",
    "    precision = precision_score(y_test, y_pred)\n",
    "    recall = recall_score(y_test, y_pred)\n",
    "    conf_matrix = confusion_matrix(y_test, y_pred)\n",
    "    class_report = classification_report(y_test, y_pred)\n",
    "    \n",
    "    # Calculate cross-validation score\n",
    "    score = np.mean(cross_val_score(model, X_train_processed, y_train, cv=5, scoring='accuracy'))\n",
    "    \n",
    "    # Print evaluation metrics\n",
    "    print(f\"Evaluation for {model_name}:\")\n",
    "    print(f\"Accuracy: {accuracy:.2f}\")\n",
    "    print(f\"Precision: {precision:.2f}\")\n",
    "    print(f\"Recall: {recall:.2f}\")\n",
    "    print(\"\\nConfusion Matrix:\")\n",
    "    print(conf_matrix)\n",
    "    print(\"\\nClassification Report:\")\n",
    "    print(class_report)\n",
    "    \n",
    "    # Store results in dictionary\n",
    "    report[model_name] = class_report\n",
    "    cross_val_score_list.append(score)\n",
    "    trained_models.append((model_name, model, recall))\n"
   ]
  },
  {
   "cell_type": "code",
   "execution_count": 13,
   "metadata": {},
   "outputs": [
    {
     "data": {
      "text/plain": [
       "{'logistic_regression': '              precision    recall  f1-score   support\\n\\n           0       0.97      0.98      0.98        63\\n           1       0.99      0.98      0.99       108\\n\\n    accuracy                           0.98       171\\n   macro avg       0.98      0.98      0.98       171\\nweighted avg       0.98      0.98      0.98       171\\n',\n",
       " 'random_forest': '              precision    recall  f1-score   support\\n\\n           0       0.97      0.94      0.95        63\\n           1       0.96      0.98      0.97       108\\n\\n    accuracy                           0.96       171\\n   macro avg       0.97      0.96      0.96       171\\nweighted avg       0.96      0.96      0.96       171\\n'}"
      ]
     },
     "execution_count": 13,
     "metadata": {},
     "output_type": "execute_result"
    }
   ],
   "source": [
    "report"
   ]
  },
  {
   "cell_type": "code",
   "execution_count": 14,
   "metadata": {},
   "outputs": [
    {
     "data": {
      "text/plain": [
       "[0.9748101265822784, 0.9522468354430378]"
      ]
     },
     "execution_count": 14,
     "metadata": {},
     "output_type": "execute_result"
    }
   ],
   "source": [
    "cross_val_score_list"
   ]
  },
  {
   "cell_type": "code",
   "execution_count": 15,
   "metadata": {},
   "outputs": [
    {
     "name": "stdout",
     "output_type": "stream",
     "text": [
      "\n",
      "Best model based on recall (minimizing false negatives): logistic_regression\n"
     ]
    }
   ],
   "source": [
    "best_model = max(trained_models, key=lambda x: x[2])\n",
    "print(f\"\\nBest model based on recall (minimizing false negatives): {best_model[0]}\")"
   ]
  }
 ],
 "metadata": {
  "kernelspec": {
   "display_name": "Python 3",
   "language": "python",
   "name": "python3"
  },
  "language_info": {
   "codemirror_mode": {
    "name": "ipython",
    "version": 3
   },
   "file_extension": ".py",
   "mimetype": "text/x-python",
   "name": "python",
   "nbconvert_exporter": "python",
   "pygments_lexer": "ipython3",
   "version": "3.11.7"
  },
  "orig_nbformat": 4
 },
 "nbformat": 4,
 "nbformat_minor": 2
}
